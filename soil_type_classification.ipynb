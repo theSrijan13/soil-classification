{
 "cells": [
  {
   "cell_type": "code",
   "execution_count": 1,
   "id": "5cab4736",
   "metadata": {},
   "outputs": [],
   "source": [
    "import numpy as np \n",
    "import pandas as pd\n",
    "import os"
   ]
  },
  {
   "cell_type": "code",
   "execution_count": 2,
   "id": "48cd8080",
   "metadata": {},
   "outputs": [],
   "source": [
    "dir_black = os.path.join(r\"C:\\Users\\HP\\Soil types\\Black Soil\")\n",
    "dir_Cinder = os.path.join(r\"C:\\Users\\HP\\Soil types\\Cinder Soil\")\n",
    "dir_Laterite = os.path.join(r'C:\\Users\\HP\\Soil types\\Laterite Soil')\n",
    "dir_peat = os.path.join(r\"C:\\Users\\HP\\Soil types\\Peat Soil\")\n",
    "dir_yellow = os.path.join(r\"C:\\Users\\HP\\Soil types\\Yellow Soil\")"
   ]
  },
  {
   "cell_type": "code",
   "execution_count": 3,
   "id": "0f11085d",
   "metadata": {},
   "outputs": [],
   "source": [
    "import tensorflow as tf\n",
    "from tensorflow import keras"
   ]
  },
  {
   "cell_type": "code",
   "execution_count": 4,
   "id": "43d7a265",
   "metadata": {},
   "outputs": [],
   "source": [
    "img_size=220\n",
    "batch_size=10\n",
    "\n",
    "target_size=(img_size,img_size)\n",
    "input_shape=(img_size,img_size,3)"
   ]
  },
  {
   "cell_type": "code",
   "execution_count": 13,
   "id": "caf6d7f3",
   "metadata": {},
   "outputs": [
    {
     "name": "stdout",
     "output_type": "stream",
     "text": [
      "Found 156 images belonging to 5 classes.\n"
     ]
    }
   ],
   "source": [
    "from tensorflow.keras.preprocessing.image import ImageDataGenerator\n",
    "\n",
    "train_datagen = ImageDataGenerator(rescale=1/255)\n",
    "train_generator = train_datagen.flow_from_directory(\n",
    "        r\"C:\\Users\\HP\\Soil types\", \n",
    "        target_size=(200, 200),\n",
    "        batch_size = batch_size,\n",
    "        classes = [ 'Black Soil','Cinder Soil', 'Laterite Soil','Peat Soil','Yellow Soil'],\n",
    "       class_mode='categorical')"
   ]
  },
  {
   "cell_type": "code",
   "execution_count": 14,
   "id": "c69124cf",
   "metadata": {},
   "outputs": [],
   "source": [
    "for image_batch, label_batch in train_generator:\n",
    "  break\n",
    "  image_batch.shape, label_batch.shape"
   ]
  },
  {
   "cell_type": "code",
   "execution_count": 15,
   "id": "3f84c9a0",
   "metadata": {},
   "outputs": [
    {
     "name": "stdout",
     "output_type": "stream",
     "text": [
      "{'Black Soil': 0, 'Cinder Soil': 1, 'Laterite Soil': 2, 'Peat Soil': 3, 'Yellow Soil': 4}\n"
     ]
    }
   ],
   "source": [
    "print (train_generator.class_indices)"
   ]
  },
  {
   "cell_type": "code",
   "execution_count": 16,
   "id": "e417f8c6",
   "metadata": {},
   "outputs": [],
   "source": [
    "model = tf.keras.models.Sequential([\n",
    "    \n",
    "    # The first convolution\n",
    "    tf.keras.layers.Conv2D(16, (3,3), activation='relu', input_shape=(220, 220, 3)),\n",
    "    tf.keras.layers.MaxPooling2D(2, 2),\n",
    "    # The second convolution\n",
    "    tf.keras.layers.Conv2D(32, (3,3), activation='relu'),\n",
    "    tf.keras.layers.MaxPooling2D(2,2),\n",
    "    # The third convolution\n",
    "    tf.keras.layers.Conv2D(64, (3,3), activation='relu'),\n",
    "    tf.keras.layers.MaxPooling2D(2,2),\n",
    "    # The fourth convolution\n",
    "    tf.keras.layers.Conv2D(64, (3,3), activation='relu'),\n",
    "    tf.keras.layers.MaxPooling2D(2,2),\n",
    "    tf.keras.layers.Conv2D(64, (3,3), activation='relu'),\n",
    "    tf.keras.layers.MaxPooling2D(2,2),\n",
    "    \n",
    "    # Flatten the results to feed into a dense layer\n",
    "    tf.keras.layers.Flatten(),\n",
    "    # 128 neuron in the fully-connected layer\n",
    "    tf.keras.layers.Dense(128, activation='relu'),\n",
    "    # 5 output neurons for 5 classes with the softmax activation\n",
    "    tf.keras.layers.Dense(5, activation='softmax')\n",
    "])"
   ]
  },
  {
   "cell_type": "code",
   "execution_count": 9,
   "id": "aa90b769",
   "metadata": {},
   "outputs": [
    {
     "name": "stdout",
     "output_type": "stream",
     "text": [
      "Model: \"sequential\"\n",
      "_________________________________________________________________\n",
      " Layer (type)                Output Shape              Param #   \n",
      "=================================================================\n",
      " conv2d (Conv2D)             (None, 218, 218, 16)      448       \n",
      "                                                                 \n",
      " max_pooling2d (MaxPooling2D  (None, 109, 109, 16)     0         \n",
      " )                                                               \n",
      "                                                                 \n",
      " conv2d_1 (Conv2D)           (None, 107, 107, 32)      4640      \n",
      "                                                                 \n",
      " max_pooling2d_1 (MaxPooling  (None, 53, 53, 32)       0         \n",
      " 2D)                                                             \n",
      "                                                                 \n",
      " conv2d_2 (Conv2D)           (None, 51, 51, 64)        18496     \n",
      "                                                                 \n",
      " max_pooling2d_2 (MaxPooling  (None, 25, 25, 64)       0         \n",
      " 2D)                                                             \n",
      "                                                                 \n",
      " conv2d_3 (Conv2D)           (None, 23, 23, 64)        36928     \n",
      "                                                                 \n",
      " max_pooling2d_3 (MaxPooling  (None, 11, 11, 64)       0         \n",
      " 2D)                                                             \n",
      "                                                                 \n",
      " conv2d_4 (Conv2D)           (None, 9, 9, 64)          36928     \n",
      "                                                                 \n",
      " max_pooling2d_4 (MaxPooling  (None, 4, 4, 64)         0         \n",
      " 2D)                                                             \n",
      "                                                                 \n",
      " flatten (Flatten)           (None, 1024)              0         \n",
      "                                                                 \n",
      " dense (Dense)               (None, 128)               131200    \n",
      "                                                                 \n",
      " dense_1 (Dense)             (None, 5)                 645       \n",
      "                                                                 \n",
      "=================================================================\n",
      "Total params: 229,285\n",
      "Trainable params: 229,285\n",
      "Non-trainable params: 0\n",
      "_________________________________________________________________\n"
     ]
    }
   ],
   "source": [
    "model.summary()"
   ]
  },
  {
   "cell_type": "code",
   "execution_count": 17,
   "id": "64b6d47e",
   "metadata": {},
   "outputs": [],
   "source": [
    "from tensorflow.keras.optimizers import RMSprop\n",
    "\n",
    "model.compile(loss='categorical_crossentropy',\n",
    "              optimizer=RMSprop(learning_rate=0.001),\n",
    "              metrics=['acc'])"
   ]
  },
  {
   "cell_type": "code",
   "execution_count": 18,
   "id": "1003d34b",
   "metadata": {},
   "outputs": [
    {
     "name": "stdout",
     "output_type": "stream",
     "text": [
      "156\n"
     ]
    }
   ],
   "source": [
    "total_sample = train_generator.n\n",
    "n_epochs = 30\n",
    "print(total_sample)"
   ]
  },
  {
   "cell_type": "code",
   "execution_count": 19,
   "id": "c272d362",
   "metadata": {},
   "outputs": [
    {
     "name": "stdout",
     "output_type": "stream",
     "text": [
      "Epoch 1/30\n",
      "15/15 [==============================] - 6s 267ms/step - loss: 1.6301 - acc: 0.2192\n",
      "Epoch 2/30\n",
      "15/15 [==============================] - 4s 260ms/step - loss: 1.5960 - acc: 0.2534\n",
      "Epoch 3/30\n",
      "15/15 [==============================] - 4s 258ms/step - loss: 1.4093 - acc: 0.3836\n",
      "Epoch 4/30\n",
      "15/15 [==============================] - 4s 254ms/step - loss: 1.2205 - acc: 0.4247\n",
      "Epoch 5/30\n",
      "15/15 [==============================] - 4s 257ms/step - loss: 1.0405 - acc: 0.4863\n",
      "Epoch 6/30\n",
      "15/15 [==============================] - 4s 251ms/step - loss: 1.1062 - acc: 0.4452\n",
      "Epoch 7/30\n",
      "15/15 [==============================] - 4s 255ms/step - loss: 0.9437 - acc: 0.5137\n",
      "Epoch 8/30\n",
      "15/15 [==============================] - 4s 261ms/step - loss: 0.9995 - acc: 0.5479\n",
      "Epoch 9/30\n",
      "15/15 [==============================] - 4s 262ms/step - loss: 0.9544 - acc: 0.6164\n",
      "Epoch 10/30\n",
      "15/15 [==============================] - 4s 263ms/step - loss: 0.8655 - acc: 0.6301\n",
      "Epoch 11/30\n",
      "15/15 [==============================] - 4s 261ms/step - loss: 0.6888 - acc: 0.7466\n",
      "Epoch 12/30\n",
      "15/15 [==============================] - 4s 262ms/step - loss: 0.6686 - acc: 0.7740\n",
      "Epoch 13/30\n",
      "15/15 [==============================] - 4s 259ms/step - loss: 0.7505 - acc: 0.7397\n",
      "Epoch 14/30\n",
      "15/15 [==============================] - 4s 260ms/step - loss: 0.6068 - acc: 0.7877\n",
      "Epoch 15/30\n",
      "15/15 [==============================] - 4s 252ms/step - loss: 0.4835 - acc: 0.8356\n",
      "Epoch 16/30\n",
      "15/15 [==============================] - 4s 269ms/step - loss: 0.6379 - acc: 0.7671\n",
      "Epoch 17/30\n",
      "15/15 [==============================] - 4s 274ms/step - loss: 0.4778 - acc: 0.8467\n",
      "Epoch 18/30\n",
      "15/15 [==============================] - 4s 255ms/step - loss: 0.6391 - acc: 0.7740\n",
      "Epoch 19/30\n",
      "15/15 [==============================] - 4s 269ms/step - loss: 0.5115 - acc: 0.8400\n",
      "Epoch 20/30\n",
      "15/15 [==============================] - 4s 254ms/step - loss: 0.4379 - acc: 0.8493\n",
      "Epoch 21/30\n",
      "15/15 [==============================] - 4s 256ms/step - loss: 0.4676 - acc: 0.8836\n",
      "Epoch 22/30\n",
      "15/15 [==============================] - 4s 258ms/step - loss: 0.4313 - acc: 0.8699\n",
      "Epoch 23/30\n",
      "15/15 [==============================] - 4s 260ms/step - loss: 0.4787 - acc: 0.8356\n",
      "Epoch 24/30\n",
      "15/15 [==============================] - 4s 257ms/step - loss: 0.3688 - acc: 0.8630\n",
      "Epoch 25/30\n",
      "15/15 [==============================] - 4s 256ms/step - loss: 0.4545 - acc: 0.8425\n",
      "Epoch 26/30\n",
      "15/15 [==============================] - 4s 257ms/step - loss: 0.4859 - acc: 0.8288\n",
      "Epoch 27/30\n",
      "15/15 [==============================] - 4s 263ms/step - loss: 0.2768 - acc: 0.9110\n",
      "Epoch 28/30\n",
      "15/15 [==============================] - 4s 259ms/step - loss: 0.3690 - acc: 0.8904\n",
      "Epoch 29/30\n",
      "15/15 [==============================] - 4s 256ms/step - loss: 0.4145 - acc: 0.8973\n",
      "Epoch 30/30\n",
      "15/15 [==============================] - 4s 266ms/step - loss: 0.3383 - acc: 0.9041\n"
     ]
    }
   ],
   "source": [
    "history = model.fit(\n",
    "        train_generator, \n",
    "        steps_per_epoch = int(total_sample/batch_size),  \n",
    "        epochs = n_epochs,\n",
    "        verbose = 1)"
   ]
  },
  {
   "cell_type": "code",
   "execution_count": 20,
   "id": "3bfade7f",
   "metadata": {},
   "outputs": [],
   "source": [
    "import matplotlib.pyplot as plt"
   ]
  },
  {
   "cell_type": "code",
   "execution_count": 21,
   "id": "8dcf2e3c",
   "metadata": {},
   "outputs": [
    {
     "data": {
      "image/png": "[encoded data removed]",
      "text/plain": [
       "<Figure size 504x288 with 1 Axes>"
      ]
     },
     "metadata": {
      "needs_background": "light"
     },
     "output_type": "display_data"
    }
   ],
   "source": [
    "plt.figure(figsize=(7,4))\n",
    "plt.plot([i+1 for i in range(n_epochs)],history.history['acc'],'-o',c='k',lw=2,markersize=9)\n",
    "plt.grid(True)\n",
    "plt.title(\"Training accuracy with epochs\\n\",fontsize=18)\n",
    "plt.xlabel(\"Training epochs\",fontsize=15)\n",
    "plt.ylabel(\"Training accuracy\",fontsize=15)\n",
    "plt.xticks(fontsize=15)\n",
    "plt.yticks(fontsize=15)\n",
    "plt.show()"
   ]
  },
  {
   "cell_type": "code",
   "execution_count": null,
   "id": "65d1df92",
   "metadata": {},
   "outputs": [],
   "source": []
  }
 ],
 "metadata": {
  "kernelspec": {
   "display_name": "Python 3 (ipykernel)",
   "language": "python",
   "name": "python3"
  },
  "language_info": {
   "codemirror_mode": {
    "name": "ipython",
    "version": 3
   },
   "file_extension": ".py",
   "mimetype": "text/x-python",
   "name": "python",
   "nbconvert_exporter": "python",
   "pygments_lexer": "ipython3",
   "version": "3.9.7"
  }
 },
 "nbformat": 4,
 "nbformat_minor": 5
}
